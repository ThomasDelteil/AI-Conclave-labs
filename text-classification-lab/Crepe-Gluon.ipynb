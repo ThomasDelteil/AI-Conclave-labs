{
 "cells": [
  {
   "cell_type": "markdown",
   "metadata": {},
   "source": [
    "# Character-level Convolutional Networks for text Classification\n",
    "\n",
    "## Crepe model implementation with MXNet/Gluon"
   ]
  },
  {
   "cell_type": "markdown",
   "metadata": {},
   "source": [
    "This is an implementation of [the crepe model, Character-level Convolutional Networks for Text Classification](https://arxiv.org/abs/1509.01626) using the MXNet Gluon API. That this is the paper we reference throughout the tutorial\n",
    "\n",
    "We are going to perform a **text classification** task, trying to classify Amazon reviews according to the product category they belong to.\n",
    "\n",
    "This work is inspired from a previous collaborative work with [Ilia Karmanov and Miguel Fierro](https://github.com/ilkarman/NLP-Sentiment)"
   ]
  },
  {
   "cell_type": "markdown",
   "metadata": {},
   "source": [
    "![img](https://github.com/ThomasDelteil/TextClassificationCNNs_MXNet/blob/master/data/diagram.png?raw=true)\n",
    "![img](https://github.com/ThomasDelteil/TextClassificationCNNs_MXNet/blob/master/data/convolutional_layers.png?raw=true)\n",
    "![img](https://github.com/ThomasDelteil/TextClassificationCNNs_MXNet/blob/master/data/dense_layer.png?raw=true)\n"
   ]
  },
  {
   "cell_type": "markdown",
   "metadata": {},
   "source": [
    "## Data download\n",
    "The dataset has been made available on this website: http://jmcauley.ucsd.edu/data/amazon/, citation of relevant papers:\n",
    "\n",
    "**Ups and downs: Modeling the visual evolution of fashion trends with one-class collaborative filtering**\n",
    "R. He, J. McAuley\n",
    "*WWW*, 2016\n",
    "\n",
    "**Image-based recommendations on styles and substitutes**\n",
    "J. McAuley, C. Targett, J. Shi, A. van den Hengel\n",
    "*SIGIR*, 2015\n",
    "\n",
    "\n"
   ]
  },
  {
   "cell_type": "markdown",
   "metadata": {},
   "source": [
    "We are downloading a subset of the reviews, the k-core reviews, where k=5. That means that for each category, the dataset has been trimmed to only contain 5 reviews per individual product, and 5 reviews per user."
   ]
  },
  {
   "cell_type": "code",
   "execution_count": 19,
   "metadata": {},
   "outputs": [],
   "source": [
    "import os\n",
    "\n",
    "import mxnet as mx\n",
    "import pandas as pd"
   ]
  },
  {
   "cell_type": "code",
   "execution_count": 7,
   "metadata": {},
   "outputs": [],
   "source": [
    "categories = [\n",
    "    'Home_and_Kitchen',\n",
    "    'Books', \n",
    "    'CDs_and_Vinyl', \n",
    "    'Movies_and_TV', \n",
    "    'Cell_Phones_and_Accessories',\n",
    "    'Sports_and_Outdoors', \n",
    "    'Clothing_Shoes_and_Jewelry'\n",
    "]"
   ]
  },
  {
   "cell_type": "markdown",
   "metadata": {},
   "source": [
    "## Data Pre-processing\n",
    "We need to perform some pre-processing steps in order to have the data in a format we can use for training (**X**,**Y**)\n",
    "In order to speed up training and balance the dataset we will only use a subset of reviews for each category."
   ]
  },
  {
   "cell_type": "markdown",
   "metadata": {},
   "source": [
    "### Load the data in memory"
   ]
  },
  {
   "cell_type": "markdown",
   "metadata": {},
   "source": [
    "For each category we load MAX_ITEMS_PER_CATEGORY by randomly sampling the files and shuffling"
   ]
  },
  {
   "cell_type": "code",
   "execution_count": 10,
   "metadata": {},
   "outputs": [],
   "source": [
    "# Loading data from file if exist\n",
    "mx.test_utils.download('https://s3.ap-south-1.amazonaws.com/ai-conclave-mxnet/review_data.pkl')\n",
    "data = pd.read_pickle('review_data.pkl')"
   ]
  },
  {
   "cell_type": "markdown",
   "metadata": {},
   "source": [
    "If the data is not available in the pickled file, we create it from scratch"
   ]
  },
  {
   "cell_type": "markdown",
   "metadata": {},
   "source": [
    "Let's visualize the data:"
   ]
  },
  {
   "cell_type": "code",
   "execution_count": 11,
   "metadata": {},
   "outputs": [
    {
     "name": "stdout",
     "output_type": "stream",
     "text": [
      "Value counts:\n",
      " 1.0    250000\n",
      "6.0    250000\n",
      "5.0    250000\n",
      "3.0    250000\n",
      "2.0    250000\n",
      "0.0    250000\n",
      "4.0    194439\n",
      "Name: Y, dtype: int64\n",
      "0 Home_and_Kitchen\n",
      "1 Books\n",
      "2 CDs_and_Vinyl\n",
      "3 Movies_and_TV\n",
      "4 Cell_Phones_and_Accessories\n",
      "5 Sports_and_Outdoors\n",
      "6 Clothing_Shoes_and_Jewelry\n"
     ]
    },
    {
     "data": {
      "text/html": [
       "<div>\n",
       "<style scoped>\n",
       "    .dataframe tbody tr th:only-of-type {\n",
       "        vertical-align: middle;\n",
       "    }\n",
       "\n",
       "    .dataframe tbody tr th {\n",
       "        vertical-align: top;\n",
       "    }\n",
       "\n",
       "    .dataframe thead th {\n",
       "        text-align: right;\n",
       "    }\n",
       "</style>\n",
       "<table border=\"1\" class=\"dataframe\">\n",
       "  <thead>\n",
       "    <tr style=\"text-align: right;\">\n",
       "      <th></th>\n",
       "      <th>X</th>\n",
       "      <th>Y</th>\n",
       "    </tr>\n",
       "  </thead>\n",
       "  <tbody>\n",
       "    <tr>\n",
       "      <th>0</th>\n",
       "      <td>Why didnt I find this sooner!!! | This product...</td>\n",
       "      <td>0.0</td>\n",
       "    </tr>\n",
       "    <tr>\n",
       "      <th>1</th>\n",
       "      <td>The only thing weighing it down is the second ...</td>\n",
       "      <td>2.0</td>\n",
       "    </tr>\n",
       "    <tr>\n",
       "      <th>2</th>\n",
       "      <td>Good | Works very good with a patch pulled or ...</td>\n",
       "      <td>5.0</td>\n",
       "    </tr>\n",
       "    <tr>\n",
       "      <th>3</th>\n",
       "      <td>Good mirror glasses | These are very reflectiv...</td>\n",
       "      <td>6.0</td>\n",
       "    </tr>\n",
       "    <tr>\n",
       "      <th>4</th>\n",
       "      <td>cute, cushy, too small :( | Well, here's anoth...</td>\n",
       "      <td>6.0</td>\n",
       "    </tr>\n",
       "  </tbody>\n",
       "</table>\n",
       "</div>"
      ],
      "text/plain": [
       "                                                   X    Y\n",
       "0  Why didnt I find this sooner!!! | This product...  0.0\n",
       "1  The only thing weighing it down is the second ...  2.0\n",
       "2  Good | Works very good with a patch pulled or ...  5.0\n",
       "3  Good mirror glasses | These are very reflectiv...  6.0\n",
       "4  cute, cushy, too small :( | Well, here's anoth...  6.0"
      ]
     },
     "execution_count": 11,
     "metadata": {},
     "output_type": "execute_result"
    }
   ],
   "source": [
    "print('Value counts:\\n',data['Y'].value_counts())\n",
    "for i,cat in enumerate(categories):\n",
    "    print(i, cat)\n",
    "data.head()"
   ]
  },
  {
   "cell_type": "markdown",
   "metadata": {},
   "source": [
    "### Creating the dataset"
   ]
  },
  {
   "cell_type": "code",
   "execution_count": 12,
   "metadata": {},
   "outputs": [],
   "source": [
    "import multiprocessing\n",
    "\n",
    "from mxnet import nd, autograd, gluon\n",
    "from mxnet.gluon.data import ArrayDataset\n",
    "from mxnet.gluon.data import DataLoader\n",
    "import numpy as np"
   ]
  },
  {
   "cell_type": "markdown",
   "metadata": {},
   "source": [
    "Setting up the parameters for the network"
   ]
  },
  {
   "cell_type": "code",
   "execution_count": 13,
   "metadata": {},
   "outputs": [],
   "source": [
    "ALPHABET = list(\"abcdefghijklmnopqrstuvwxyz0123456789-,;.!?:'\\\"/\\\\|_@#$%^&*~`+ =<>()[]{}\") # The 69 characters as specified in the paper\n",
    "ALPHABET_INDEX = {letter: index for index, letter in enumerate(ALPHABET)} # { a: 0, b: 1, etc}\n",
    "FEATURE_LEN = 1014 # max-length in characters for one document\n",
    "NUM_WORKERS = max(multiprocessing.cpu_count() - 3, 1)# number of workers used in the data loading\n",
    "BATCH_SIZE = 128 # number of documents per batch"
   ]
  },
  {
   "cell_type": "markdown",
   "metadata": {},
   "source": [
    "According to the paper, each document needs to be encoded in the following manner:\n",
    "    - Truncate to 1014 characters\n",
    "    - Reverse the string\n",
    "    - One-hot encode based on the alphabet\n",
    "    \n",
    "The following `encode` function does this for us"
   ]
  },
  {
   "cell_type": "code",
   "execution_count": 39,
   "metadata": {},
   "outputs": [],
   "source": [
    "def encode(text):\n",
    "    encoded = np.zeros([len(ALPHABET), FEATURE_LEN], dtype='float32')\n",
    "    review = text.lower()[:FEATURE_LEN-1:-1]\n",
    "    i = 0\n",
    "    for letter in text:\n",
    "        if i >= FEATURE_LEN:\n",
    "            break;\n",
    "        if letter in ALPHABET_INDEX:\n",
    "            encoded[ALPHABET_INDEX[letter]][i] = 1\n",
    "        i += 1\n",
    "    return encoded"
   ]
  },
  {
   "cell_type": "markdown",
   "metadata": {},
   "source": [
    "The MXNet DataSet and DataLoader API lets you create different worker to pre-fetch the data and encode it the way you want, in order to prevent your GPU from starving"
   ]
  },
  {
   "cell_type": "code",
   "execution_count": 40,
   "metadata": {},
   "outputs": [],
   "source": [
    "def transform(x, y):\n",
    "    ####"
   ]
  },
  {
   "cell_type": "markdown",
   "metadata": {},
   "source": [
    "We split our data into a training and a testing dataset"
   ]
  },
  {
   "cell_type": "code",
   "execution_count": 16,
   "metadata": {},
   "outputs": [],
   "source": [
    "split = 0.8\n",
    "split_index = int(split*len(data))\n",
    "train_data_X = data['X'][:split_index].as_matrix()\n",
    "train_data_Y = data['Y'][:split_index].as_matrix()\n",
    "test_data_X = data['X'][split_index:].as_matrix()\n",
    "test_data_Y = data['Y'][split_index:].as_matrix()"
   ]
  },
  {
   "cell_type": "code",
   "execution_count": 20,
   "metadata": {},
   "outputs": [],
   "source": [
    "### Create dataset\n",
    "train_dataset = ####\n",
    "test_dataset = ####"
   ]
  },
  {
   "cell_type": "markdown",
   "metadata": {},
   "source": [
    "Creating the training and testing dataloader, with NUM_WORKERS"
   ]
  },
  {
   "cell_type": "code",
   "execution_count": 41,
   "metadata": {},
   "outputs": [],
   "source": [
    "train_dataloader = DataLoader(train_dataset.transform(transform), batch_size=BATCH_SIZE, shuffle=True, last_batch='rollover', num_workers=NUM_WORKERS)"
   ]
  },
  {
   "cell_type": "code",
   "execution_count": 66,
   "metadata": {},
   "outputs": [],
   "source": [
    "test_dataloader = DataLoader(test_dataset.transform(transform), batch_size=BATCH_SIZE, shuffle=False, last_batch='rollover', num_workers=NUM_WORKERS)"
   ]
  },
  {
   "cell_type": "markdown",
   "metadata": {},
   "source": [
    "## Creation of the network"
   ]
  },
  {
   "cell_type": "markdown",
   "metadata": {},
   "source": [
    "The context will define where the training takes place, on the CPU or on the GPU"
   ]
  },
  {
   "cell_type": "code",
   "execution_count": 43,
   "metadata": {},
   "outputs": [],
   "source": [
    "ctx = mx.gpu() if mx.context.num_gpus() else mx.cpu()"
   ]
  },
  {
   "cell_type": "markdown",
   "metadata": {},
   "source": [
    "We create the network following the instructions describe in the paper, using the small feature and small output units configuration"
   ]
  },
  {
   "cell_type": "markdown",
   "metadata": {},
   "source": [
    "Based on the paper we set the following parameters:"
   ]
  },
  {
   "cell_type": "code",
   "execution_count": 44,
   "metadata": {},
   "outputs": [],
   "source": [
    "NUM_FILTERS = 256 # number of convolutional filters per convolutional layer\n",
    "NUM_OUTPUTS = len(categories) # number of classes\n",
    "FULLY_CONNECTED = 1024 # number of unit in the fully connected dense layer\n",
    "DROPOUT_RATE = 0.5 # probability of node drop out\n",
    "LEARNING_RATE = 0.001 # learning rate of the gradient\n",
    "MOMENTUM = 0.9 # momentum of the gradient\n",
    "WDECAY = 0.00001 # regularization term to limit size of weights"
   ]
  },
  {
   "cell_type": "code",
   "execution_count": 60,
   "metadata": {},
   "outputs": [],
   "source": [
    "net = gluon.nn.HybridSequential()\n",
    "with net.name_scope():\n",
    "    net.add(gluon.nn.Conv1D(channels=NUM_FILTERS, kernel_size=7, activation='relu'))\n",
    "    net.add(gluon.nn.MaxPool1D(pool_size=3, strides=3))\n",
    "    net.add(gluon.nn.Conv1D(channels=NUM_FILTERS, kernel_size=7, activation='relu'))\n",
    "    net.add(gluon.nn.MaxPool1D(pool_size=3, strides=3))\n",
    "    net.add(gluon.nn.Conv1D(channels=NUM_FILTERS, kernel_size=3, activation='relu'))\n",
    "    net.add(gluon.nn.Conv1D(channels=NUM_FILTERS, kernel_size=3, activation='relu'))\n",
    "    net.add(gluon.nn.Conv1D(channels=NUM_FILTERS, kernel_size=3, activation='relu'))\n",
    "    net.add(gluon.nn.Conv1D(channels=NUM_FILTERS, kernel_size=3, activation='relu'))\n",
    "    net.add(gluon.nn.MaxPool1D(pool_size=3, strides=3))\n",
    "    net.add(gluon.nn.Flatten())\n",
    "    net.add(gluon.nn.Dense(FULLY_CONNECTED, activation='relu'))\n",
    "    net.add(gluon.nn.Dropout(DROPOUT_RATE))\n",
    "    net.add(gluon.nn.Dense(FULLY_CONNECTED, activation='relu'))\n",
    "    net.add(gluon.nn.Dropout(DROPOUT_RATE))\n",
    "    net.add(gluon.nn.Dense(NUM_OUTPUTS))\n"
   ]
  },
  {
   "cell_type": "markdown",
   "metadata": {},
   "source": [
    "Here we define whether we load a pre-trained version of the model and [hybridize the network](https://mxnet.incubator.apache.org/tutorials/gluon/hybrid.html) for speed improvements"
   ]
  },
  {
   "cell_type": "code",
   "execution_count": 61,
   "metadata": {},
   "outputs": [],
   "source": [
    "hybridize = True # for speed improvement, compile the network but no in-depth debugging possible"
   ]
  },
  {
   "cell_type": "markdown",
   "metadata": {},
   "source": [
    "### Parameter initialization"
   ]
  },
  {
   "cell_type": "code",
   "execution_count": 62,
   "metadata": {},
   "outputs": [],
   "source": [
    "net.initialize(mx.init.Xavier(magnitude=2.24), ctx=ctx)"
   ]
  },
  {
   "cell_type": "code",
   "execution_count": 63,
   "metadata": {},
   "outputs": [
    {
     "name": "stdout",
     "output_type": "stream",
     "text": [
      "--------------------------------------------------------------------------------\n",
      "        Layer (type)                                Output Shape         Param #\n",
      "================================================================================\n",
      "               Input                               (1, 69, 1014)               0\n",
      "        Activation-1   <Symbol hybridsequential2_conv0_relu_fwd>               0\n",
      "        Activation-2                              (1, 256, 1008)               0\n",
      "            Conv1D-3                              (1, 256, 1008)          123904\n",
      "         MaxPool1D-4                               (1, 256, 336)               0\n",
      "        Activation-5   <Symbol hybridsequential2_conv1_relu_fwd>               0\n",
      "        Activation-6                               (1, 256, 330)               0\n",
      "            Conv1D-7                               (1, 256, 330)          459008\n",
      "         MaxPool1D-8                               (1, 256, 110)               0\n",
      "        Activation-9   <Symbol hybridsequential2_conv2_relu_fwd>               0\n",
      "       Activation-10                               (1, 256, 108)               0\n",
      "           Conv1D-11                               (1, 256, 108)          196864\n",
      "       Activation-12   <Symbol hybridsequential2_conv3_relu_fwd>               0\n",
      "       Activation-13                               (1, 256, 106)               0\n",
      "           Conv1D-14                               (1, 256, 106)          196864\n",
      "       Activation-15   <Symbol hybridsequential2_conv4_relu_fwd>               0\n",
      "       Activation-16                               (1, 256, 104)               0\n",
      "           Conv1D-17                               (1, 256, 104)          196864\n",
      "       Activation-18   <Symbol hybridsequential2_conv5_relu_fwd>               0\n",
      "       Activation-19                               (1, 256, 102)               0\n",
      "           Conv1D-20                               (1, 256, 102)          196864\n",
      "        MaxPool1D-21                                (1, 256, 34)               0\n",
      "          Flatten-22                                   (1, 8704)               0\n",
      "       Activation-23  <Symbol hybridsequential2_dense0_relu_fwd>               0\n",
      "       Activation-24                                   (1, 1024)               0\n",
      "            Dense-25                                   (1, 1024)         8913920\n",
      "          Dropout-26                                   (1, 1024)               0\n",
      "       Activation-27  <Symbol hybridsequential2_dense1_relu_fwd>               0\n",
      "       Activation-28                                   (1, 1024)               0\n",
      "            Dense-29                                   (1, 1024)         1049600\n",
      "          Dropout-30                                   (1, 1024)               0\n",
      "            Dense-31                                      (1, 7)            7175\n",
      "================================================================================\n",
      "Parameters in forward computation graph, duplicate included\n",
      "   Total params: 11341063\n",
      "   Trainable params: 11341063\n",
      "   Non-trainable params: 0\n",
      "Shared params in forward computation graph: 0\n",
      "Unique parameters in model: 11341063\n",
      "--------------------------------------------------------------------------------\n"
     ]
    }
   ],
   "source": [
    "shape = (1, len(ALPHABET), FEATURE_LEN)\n",
    "net.summary(mx.nd.zeros(shape, ctx))"
   ]
  },
  {
   "cell_type": "code",
   "execution_count": 65,
   "metadata": {},
   "outputs": [
    {
     "data": {
      "image/svg+xml": [
       "<?xml version=\"1.0\" encoding=\"UTF-8\" standalone=\"no\"?>\n",
       "<!DOCTYPE svg PUBLIC \"-//W3C//DTD SVG 1.1//EN\"\n",
       " \"http://www.w3.org/Graphics/SVG/1.1/DTD/svg11.dtd\">\n",
       "<!-- Generated by graphviz version 2.38.0 (20140413.2041)\n",
       " -->\n",
       "<!-- Title: plot Pages: 1 -->\n",
       "<svg width=\"110pt\" height=\"2573pt\"\n",
       " viewBox=\"0.00 0.00 110.00 2573.00\" xmlns=\"http://www.w3.org/2000/svg\" xmlns:xlink=\"http://www.w3.org/1999/xlink\">\n",
       "<g id=\"graph0\" class=\"graph\" transform=\"scale(1 1) rotate(0) translate(4 2569)\">\n",
       "<title>plot</title>\n",
       "<polygon fill=\"white\" stroke=\"none\" points=\"-4,4 -4,-2569 106,-2569 106,4 -4,4\"/>\n",
       "<!-- data -->\n",
       "<g id=\"node1\" class=\"node\"><title>data</title>\n",
       "<ellipse fill=\"#8dd3c7\" stroke=\"black\" cx=\"47\" cy=\"-29\" rx=\"47\" ry=\"29\"/>\n",
       "<text text-anchor=\"middle\" x=\"47\" y=\"-25.3\" font-family=\"Times,serif\" font-size=\"14.00\">data</text>\n",
       "</g>\n",
       "<!-- hybridsequential2_conv0_fwd -->\n",
       "<g id=\"node2\" class=\"node\"><title>hybridsequential2_conv0_fwd</title>\n",
       "<polygon fill=\"#fb8072\" stroke=\"black\" points=\"94,-167 -7.10543e-15,-167 -7.10543e-15,-109 94,-109 94,-167\"/>\n",
       "<text text-anchor=\"middle\" x=\"47\" y=\"-141.8\" font-family=\"Times,serif\" font-size=\"14.00\">Convolution</text>\n",
       "<text text-anchor=\"middle\" x=\"47\" y=\"-126.8\" font-family=\"Times,serif\" font-size=\"14.00\">7/1, 256</text>\n",
       "</g>\n",
       "<!-- hybridsequential2_conv0_fwd&#45;&gt;data -->\n",
       "<g id=\"edge1\" class=\"edge\"><title>hybridsequential2_conv0_fwd&#45;&gt;data</title>\n",
       "<path fill=\"none\" stroke=\"black\" d=\"M47,-98.5824C47,-85.2841 47,-70.632 47,-58.2967\"/>\n",
       "<polygon fill=\"black\" stroke=\"black\" points=\"47,-108.887 42.5001,-98.887 47,-103.887 47.0001,-98.887 47.0001,-98.887 47.0001,-98.887 47,-103.887 51.5001,-98.8871 47,-108.887 47,-108.887\"/>\n",
       "<text text-anchor=\"middle\" x=\"71\" y=\"-79.8\" font-family=\"Times,serif\" font-size=\"14.00\">69x1014</text>\n",
       "</g>\n",
       "<!-- hybridsequential2_conv0_relu_fwd -->\n",
       "<g id=\"node3\" class=\"node\"><title>hybridsequential2_conv0_relu_fwd</title>\n",
       "<polygon fill=\"#ffffb3\" stroke=\"black\" points=\"94,-276 -7.10543e-15,-276 -7.10543e-15,-218 94,-218 94,-276\"/>\n",
       "<text text-anchor=\"middle\" x=\"47\" y=\"-250.8\" font-family=\"Times,serif\" font-size=\"14.00\">Activation</text>\n",
       "<text text-anchor=\"middle\" x=\"47\" y=\"-235.8\" font-family=\"Times,serif\" font-size=\"14.00\">relu</text>\n",
       "</g>\n",
       "<!-- hybridsequential2_conv0_relu_fwd&#45;&gt;hybridsequential2_conv0_fwd -->\n",
       "<g id=\"edge2\" class=\"edge\"><title>hybridsequential2_conv0_relu_fwd&#45;&gt;hybridsequential2_conv0_fwd</title>\n",
       "<path fill=\"none\" stroke=\"black\" d=\"M47,-207.582C47,-194.284 47,-179.632 47,-167.297\"/>\n",
       "<polygon fill=\"black\" stroke=\"black\" points=\"47,-217.887 42.5001,-207.887 47,-212.887 47.0001,-207.887 47.0001,-207.887 47.0001,-207.887 47,-212.887 51.5001,-207.887 47,-217.887 47,-217.887\"/>\n",
       "<text text-anchor=\"middle\" x=\"74.5\" y=\"-188.8\" font-family=\"Times,serif\" font-size=\"14.00\">256x1008</text>\n",
       "</g>\n",
       "<!-- hybridsequential2_pool0_fwd -->\n",
       "<g id=\"node4\" class=\"node\"><title>hybridsequential2_pool0_fwd</title>\n",
       "<polygon fill=\"#80b1d3\" stroke=\"black\" points=\"94,-385 -7.10543e-15,-385 -7.10543e-15,-327 94,-327 94,-385\"/>\n",
       "<text text-anchor=\"middle\" x=\"47\" y=\"-359.8\" font-family=\"Times,serif\" font-size=\"14.00\">Pooling</text>\n",
       "<text text-anchor=\"middle\" x=\"47\" y=\"-344.8\" font-family=\"Times,serif\" font-size=\"14.00\">max, 3/3</text>\n",
       "</g>\n",
       "<!-- hybridsequential2_pool0_fwd&#45;&gt;hybridsequential2_conv0_relu_fwd -->\n",
       "<g id=\"edge3\" class=\"edge\"><title>hybridsequential2_pool0_fwd&#45;&gt;hybridsequential2_conv0_relu_fwd</title>\n",
       "<path fill=\"none\" stroke=\"black\" d=\"M47,-316.582C47,-303.284 47,-288.632 47,-276.297\"/>\n",
       "<polygon fill=\"black\" stroke=\"black\" points=\"47,-326.887 42.5001,-316.887 47,-321.887 47.0001,-316.887 47.0001,-316.887 47.0001,-316.887 47,-321.887 51.5001,-316.887 47,-326.887 47,-326.887\"/>\n",
       "<text text-anchor=\"middle\" x=\"74.5\" y=\"-297.8\" font-family=\"Times,serif\" font-size=\"14.00\">256x1008</text>\n",
       "</g>\n",
       "<!-- hybridsequential2_conv1_fwd -->\n",
       "<g id=\"node5\" class=\"node\"><title>hybridsequential2_conv1_fwd</title>\n",
       "<polygon fill=\"#fb8072\" stroke=\"black\" points=\"94,-494 -7.10543e-15,-494 -7.10543e-15,-436 94,-436 94,-494\"/>\n",
       "<text text-anchor=\"middle\" x=\"47\" y=\"-468.8\" font-family=\"Times,serif\" font-size=\"14.00\">Convolution</text>\n",
       "<text text-anchor=\"middle\" x=\"47\" y=\"-453.8\" font-family=\"Times,serif\" font-size=\"14.00\">7/1, 256</text>\n",
       "</g>\n",
       "<!-- hybridsequential2_conv1_fwd&#45;&gt;hybridsequential2_pool0_fwd -->\n",
       "<g id=\"edge4\" class=\"edge\"><title>hybridsequential2_conv1_fwd&#45;&gt;hybridsequential2_pool0_fwd</title>\n",
       "<path fill=\"none\" stroke=\"black\" d=\"M47,-425.582C47,-412.284 47,-397.632 47,-385.297\"/>\n",
       "<polygon fill=\"black\" stroke=\"black\" points=\"47,-435.887 42.5001,-425.887 47,-430.887 47.0001,-425.887 47.0001,-425.887 47.0001,-425.887 47,-430.887 51.5001,-425.887 47,-435.887 47,-435.887\"/>\n",
       "<text text-anchor=\"middle\" x=\"71\" y=\"-406.8\" font-family=\"Times,serif\" font-size=\"14.00\">256x336</text>\n",
       "</g>\n",
       "<!-- hybridsequential2_conv1_relu_fwd -->\n",
       "<g id=\"node6\" class=\"node\"><title>hybridsequential2_conv1_relu_fwd</title>\n",
       "<polygon fill=\"#ffffb3\" stroke=\"black\" points=\"94,-603 -7.10543e-15,-603 -7.10543e-15,-545 94,-545 94,-603\"/>\n",
       "<text text-anchor=\"middle\" x=\"47\" y=\"-577.8\" font-family=\"Times,serif\" font-size=\"14.00\">Activation</text>\n",
       "<text text-anchor=\"middle\" x=\"47\" y=\"-562.8\" font-family=\"Times,serif\" font-size=\"14.00\">relu</text>\n",
       "</g>\n",
       "<!-- hybridsequential2_conv1_relu_fwd&#45;&gt;hybridsequential2_conv1_fwd -->\n",
       "<g id=\"edge5\" class=\"edge\"><title>hybridsequential2_conv1_relu_fwd&#45;&gt;hybridsequential2_conv1_fwd</title>\n",
       "<path fill=\"none\" stroke=\"black\" d=\"M47,-534.582C47,-521.284 47,-506.632 47,-494.297\"/>\n",
       "<polygon fill=\"black\" stroke=\"black\" points=\"47,-544.887 42.5001,-534.887 47,-539.887 47.0001,-534.887 47.0001,-534.887 47.0001,-534.887 47,-539.887 51.5001,-534.887 47,-544.887 47,-544.887\"/>\n",
       "<text text-anchor=\"middle\" x=\"71\" y=\"-515.8\" font-family=\"Times,serif\" font-size=\"14.00\">256x330</text>\n",
       "</g>\n",
       "<!-- hybridsequential2_pool1_fwd -->\n",
       "<g id=\"node7\" class=\"node\"><title>hybridsequential2_pool1_fwd</title>\n",
       "<polygon fill=\"#80b1d3\" stroke=\"black\" points=\"94,-712 -7.10543e-15,-712 -7.10543e-15,-654 94,-654 94,-712\"/>\n",
       "<text text-anchor=\"middle\" x=\"47\" y=\"-686.8\" font-family=\"Times,serif\" font-size=\"14.00\">Pooling</text>\n",
       "<text text-anchor=\"middle\" x=\"47\" y=\"-671.8\" font-family=\"Times,serif\" font-size=\"14.00\">max, 3/3</text>\n",
       "</g>\n",
       "<!-- hybridsequential2_pool1_fwd&#45;&gt;hybridsequential2_conv1_relu_fwd -->\n",
       "<g id=\"edge6\" class=\"edge\"><title>hybridsequential2_pool1_fwd&#45;&gt;hybridsequential2_conv1_relu_fwd</title>\n",
       "<path fill=\"none\" stroke=\"black\" d=\"M47,-643.582C47,-630.284 47,-615.632 47,-603.297\"/>\n",
       "<polygon fill=\"black\" stroke=\"black\" points=\"47,-653.887 42.5001,-643.887 47,-648.887 47.0001,-643.887 47.0001,-643.887 47.0001,-643.887 47,-648.887 51.5001,-643.887 47,-653.887 47,-653.887\"/>\n",
       "<text text-anchor=\"middle\" x=\"71\" y=\"-624.8\" font-family=\"Times,serif\" font-size=\"14.00\">256x330</text>\n",
       "</g>\n",
       "<!-- hybridsequential2_conv2_fwd -->\n",
       "<g id=\"node8\" class=\"node\"><title>hybridsequential2_conv2_fwd</title>\n",
       "<polygon fill=\"#fb8072\" stroke=\"black\" points=\"94,-821 -7.10543e-15,-821 -7.10543e-15,-763 94,-763 94,-821\"/>\n",
       "<text text-anchor=\"middle\" x=\"47\" y=\"-795.8\" font-family=\"Times,serif\" font-size=\"14.00\">Convolution</text>\n",
       "<text text-anchor=\"middle\" x=\"47\" y=\"-780.8\" font-family=\"Times,serif\" font-size=\"14.00\">3/1, 256</text>\n",
       "</g>\n",
       "<!-- hybridsequential2_conv2_fwd&#45;&gt;hybridsequential2_pool1_fwd -->\n",
       "<g id=\"edge7\" class=\"edge\"><title>hybridsequential2_conv2_fwd&#45;&gt;hybridsequential2_pool1_fwd</title>\n",
       "<path fill=\"none\" stroke=\"black\" d=\"M47,-752.582C47,-739.284 47,-724.632 47,-712.297\"/>\n",
       "<polygon fill=\"black\" stroke=\"black\" points=\"47,-762.887 42.5001,-752.887 47,-757.887 47.0001,-752.887 47.0001,-752.887 47.0001,-752.887 47,-757.887 51.5001,-752.887 47,-762.887 47,-762.887\"/>\n",
       "<text text-anchor=\"middle\" x=\"71\" y=\"-733.8\" font-family=\"Times,serif\" font-size=\"14.00\">256x110</text>\n",
       "</g>\n",
       "<!-- hybridsequential2_conv2_relu_fwd -->\n",
       "<g id=\"node9\" class=\"node\"><title>hybridsequential2_conv2_relu_fwd</title>\n",
       "<polygon fill=\"#ffffb3\" stroke=\"black\" points=\"94,-930 -7.10543e-15,-930 -7.10543e-15,-872 94,-872 94,-930\"/>\n",
       "<text text-anchor=\"middle\" x=\"47\" y=\"-904.8\" font-family=\"Times,serif\" font-size=\"14.00\">Activation</text>\n",
       "<text text-anchor=\"middle\" x=\"47\" y=\"-889.8\" font-family=\"Times,serif\" font-size=\"14.00\">relu</text>\n",
       "</g>\n",
       "<!-- hybridsequential2_conv2_relu_fwd&#45;&gt;hybridsequential2_conv2_fwd -->\n",
       "<g id=\"edge8\" class=\"edge\"><title>hybridsequential2_conv2_relu_fwd&#45;&gt;hybridsequential2_conv2_fwd</title>\n",
       "<path fill=\"none\" stroke=\"black\" d=\"M47,-861.582C47,-848.284 47,-833.632 47,-821.297\"/>\n",
       "<polygon fill=\"black\" stroke=\"black\" points=\"47,-871.887 42.5001,-861.887 47,-866.887 47.0001,-861.887 47.0001,-861.887 47.0001,-861.887 47,-866.887 51.5001,-861.887 47,-871.887 47,-871.887\"/>\n",
       "<text text-anchor=\"middle\" x=\"71\" y=\"-842.8\" font-family=\"Times,serif\" font-size=\"14.00\">256x108</text>\n",
       "</g>\n",
       "<!-- hybridsequential2_conv3_fwd -->\n",
       "<g id=\"node10\" class=\"node\"><title>hybridsequential2_conv3_fwd</title>\n",
       "<polygon fill=\"#fb8072\" stroke=\"black\" points=\"94,-1039 -7.10543e-15,-1039 -7.10543e-15,-981 94,-981 94,-1039\"/>\n",
       "<text text-anchor=\"middle\" x=\"47\" y=\"-1013.8\" font-family=\"Times,serif\" font-size=\"14.00\">Convolution</text>\n",
       "<text text-anchor=\"middle\" x=\"47\" y=\"-998.8\" font-family=\"Times,serif\" font-size=\"14.00\">3/1, 256</text>\n",
       "</g>\n",
       "<!-- hybridsequential2_conv3_fwd&#45;&gt;hybridsequential2_conv2_relu_fwd -->\n",
       "<g id=\"edge9\" class=\"edge\"><title>hybridsequential2_conv3_fwd&#45;&gt;hybridsequential2_conv2_relu_fwd</title>\n",
       "<path fill=\"none\" stroke=\"black\" d=\"M47,-970.582C47,-957.284 47,-942.632 47,-930.297\"/>\n",
       "<polygon fill=\"black\" stroke=\"black\" points=\"47,-980.887 42.5001,-970.887 47,-975.887 47.0001,-970.887 47.0001,-970.887 47.0001,-970.887 47,-975.887 51.5001,-970.887 47,-980.887 47,-980.887\"/>\n",
       "<text text-anchor=\"middle\" x=\"71\" y=\"-951.8\" font-family=\"Times,serif\" font-size=\"14.00\">256x108</text>\n",
       "</g>\n",
       "<!-- hybridsequential2_conv3_relu_fwd -->\n",
       "<g id=\"node11\" class=\"node\"><title>hybridsequential2_conv3_relu_fwd</title>\n",
       "<polygon fill=\"#ffffb3\" stroke=\"black\" points=\"94,-1148 -7.10543e-15,-1148 -7.10543e-15,-1090 94,-1090 94,-1148\"/>\n",
       "<text text-anchor=\"middle\" x=\"47\" y=\"-1122.8\" font-family=\"Times,serif\" font-size=\"14.00\">Activation</text>\n",
       "<text text-anchor=\"middle\" x=\"47\" y=\"-1107.8\" font-family=\"Times,serif\" font-size=\"14.00\">relu</text>\n",
       "</g>\n",
       "<!-- hybridsequential2_conv3_relu_fwd&#45;&gt;hybridsequential2_conv3_fwd -->\n",
       "<g id=\"edge10\" class=\"edge\"><title>hybridsequential2_conv3_relu_fwd&#45;&gt;hybridsequential2_conv3_fwd</title>\n",
       "<path fill=\"none\" stroke=\"black\" d=\"M47,-1079.58C47,-1066.28 47,-1051.63 47,-1039.3\"/>\n",
       "<polygon fill=\"black\" stroke=\"black\" points=\"47,-1089.89 42.5001,-1079.89 47,-1084.89 47.0001,-1079.89 47.0001,-1079.89 47.0001,-1079.89 47,-1084.89 51.5001,-1079.89 47,-1089.89 47,-1089.89\"/>\n",
       "<text text-anchor=\"middle\" x=\"71\" y=\"-1060.8\" font-family=\"Times,serif\" font-size=\"14.00\">256x106</text>\n",
       "</g>\n",
       "<!-- hybridsequential2_conv4_fwd -->\n",
       "<g id=\"node12\" class=\"node\"><title>hybridsequential2_conv4_fwd</title>\n",
       "<polygon fill=\"#fb8072\" stroke=\"black\" points=\"94,-1257 -7.10543e-15,-1257 -7.10543e-15,-1199 94,-1199 94,-1257\"/>\n",
       "<text text-anchor=\"middle\" x=\"47\" y=\"-1231.8\" font-family=\"Times,serif\" font-size=\"14.00\">Convolution</text>\n",
       "<text text-anchor=\"middle\" x=\"47\" y=\"-1216.8\" font-family=\"Times,serif\" font-size=\"14.00\">3/1, 256</text>\n",
       "</g>\n",
       "<!-- hybridsequential2_conv4_fwd&#45;&gt;hybridsequential2_conv3_relu_fwd -->\n",
       "<g id=\"edge11\" class=\"edge\"><title>hybridsequential2_conv4_fwd&#45;&gt;hybridsequential2_conv3_relu_fwd</title>\n",
       "<path fill=\"none\" stroke=\"black\" d=\"M47,-1188.58C47,-1175.28 47,-1160.63 47,-1148.3\"/>\n",
       "<polygon fill=\"black\" stroke=\"black\" points=\"47,-1198.89 42.5001,-1188.89 47,-1193.89 47.0001,-1188.89 47.0001,-1188.89 47.0001,-1188.89 47,-1193.89 51.5001,-1188.89 47,-1198.89 47,-1198.89\"/>\n",
       "<text text-anchor=\"middle\" x=\"71\" y=\"-1169.8\" font-family=\"Times,serif\" font-size=\"14.00\">256x106</text>\n",
       "</g>\n",
       "<!-- hybridsequential2_conv4_relu_fwd -->\n",
       "<g id=\"node13\" class=\"node\"><title>hybridsequential2_conv4_relu_fwd</title>\n",
       "<polygon fill=\"#ffffb3\" stroke=\"black\" points=\"94,-1366 -7.10543e-15,-1366 -7.10543e-15,-1308 94,-1308 94,-1366\"/>\n",
       "<text text-anchor=\"middle\" x=\"47\" y=\"-1340.8\" font-family=\"Times,serif\" font-size=\"14.00\">Activation</text>\n",
       "<text text-anchor=\"middle\" x=\"47\" y=\"-1325.8\" font-family=\"Times,serif\" font-size=\"14.00\">relu</text>\n",
       "</g>\n",
       "<!-- hybridsequential2_conv4_relu_fwd&#45;&gt;hybridsequential2_conv4_fwd -->\n",
       "<g id=\"edge12\" class=\"edge\"><title>hybridsequential2_conv4_relu_fwd&#45;&gt;hybridsequential2_conv4_fwd</title>\n",
       "<path fill=\"none\" stroke=\"black\" d=\"M47,-1297.58C47,-1284.28 47,-1269.63 47,-1257.3\"/>\n",
       "<polygon fill=\"black\" stroke=\"black\" points=\"47,-1307.89 42.5001,-1297.89 47,-1302.89 47.0001,-1297.89 47.0001,-1297.89 47.0001,-1297.89 47,-1302.89 51.5001,-1297.89 47,-1307.89 47,-1307.89\"/>\n",
       "<text text-anchor=\"middle\" x=\"71\" y=\"-1278.8\" font-family=\"Times,serif\" font-size=\"14.00\">256x104</text>\n",
       "</g>\n",
       "<!-- hybridsequential2_conv5_fwd -->\n",
       "<g id=\"node14\" class=\"node\"><title>hybridsequential2_conv5_fwd</title>\n",
       "<polygon fill=\"#fb8072\" stroke=\"black\" points=\"94,-1475 -7.10543e-15,-1475 -7.10543e-15,-1417 94,-1417 94,-1475\"/>\n",
       "<text text-anchor=\"middle\" x=\"47\" y=\"-1449.8\" font-family=\"Times,serif\" font-size=\"14.00\">Convolution</text>\n",
       "<text text-anchor=\"middle\" x=\"47\" y=\"-1434.8\" font-family=\"Times,serif\" font-size=\"14.00\">3/1, 256</text>\n",
       "</g>\n",
       "<!-- hybridsequential2_conv5_fwd&#45;&gt;hybridsequential2_conv4_relu_fwd -->\n",
       "<g id=\"edge13\" class=\"edge\"><title>hybridsequential2_conv5_fwd&#45;&gt;hybridsequential2_conv4_relu_fwd</title>\n",
       "<path fill=\"none\" stroke=\"black\" d=\"M47,-1406.58C47,-1393.28 47,-1378.63 47,-1366.3\"/>\n",
       "<polygon fill=\"black\" stroke=\"black\" points=\"47,-1416.89 42.5001,-1406.89 47,-1411.89 47.0001,-1406.89 47.0001,-1406.89 47.0001,-1406.89 47,-1411.89 51.5001,-1406.89 47,-1416.89 47,-1416.89\"/>\n",
       "<text text-anchor=\"middle\" x=\"71\" y=\"-1387.8\" font-family=\"Times,serif\" font-size=\"14.00\">256x104</text>\n",
       "</g>\n",
       "<!-- hybridsequential2_conv5_relu_fwd -->\n",
       "<g id=\"node15\" class=\"node\"><title>hybridsequential2_conv5_relu_fwd</title>\n",
       "<polygon fill=\"#ffffb3\" stroke=\"black\" points=\"94,-1584 -7.10543e-15,-1584 -7.10543e-15,-1526 94,-1526 94,-1584\"/>\n",
       "<text text-anchor=\"middle\" x=\"47\" y=\"-1558.8\" font-family=\"Times,serif\" font-size=\"14.00\">Activation</text>\n",
       "<text text-anchor=\"middle\" x=\"47\" y=\"-1543.8\" font-family=\"Times,serif\" font-size=\"14.00\">relu</text>\n",
       "</g>\n",
       "<!-- hybridsequential2_conv5_relu_fwd&#45;&gt;hybridsequential2_conv5_fwd -->\n",
       "<g id=\"edge14\" class=\"edge\"><title>hybridsequential2_conv5_relu_fwd&#45;&gt;hybridsequential2_conv5_fwd</title>\n",
       "<path fill=\"none\" stroke=\"black\" d=\"M47,-1515.58C47,-1502.28 47,-1487.63 47,-1475.3\"/>\n",
       "<polygon fill=\"black\" stroke=\"black\" points=\"47,-1525.89 42.5001,-1515.89 47,-1520.89 47.0001,-1515.89 47.0001,-1515.89 47.0001,-1515.89 47,-1520.89 51.5001,-1515.89 47,-1525.89 47,-1525.89\"/>\n",
       "<text text-anchor=\"middle\" x=\"71\" y=\"-1496.8\" font-family=\"Times,serif\" font-size=\"14.00\">256x102</text>\n",
       "</g>\n",
       "<!-- hybridsequential2_pool2_fwd -->\n",
       "<g id=\"node16\" class=\"node\"><title>hybridsequential2_pool2_fwd</title>\n",
       "<polygon fill=\"#80b1d3\" stroke=\"black\" points=\"94,-1693 -7.10543e-15,-1693 -7.10543e-15,-1635 94,-1635 94,-1693\"/>\n",
       "<text text-anchor=\"middle\" x=\"47\" y=\"-1667.8\" font-family=\"Times,serif\" font-size=\"14.00\">Pooling</text>\n",
       "<text text-anchor=\"middle\" x=\"47\" y=\"-1652.8\" font-family=\"Times,serif\" font-size=\"14.00\">max, 3/3</text>\n",
       "</g>\n",
       "<!-- hybridsequential2_pool2_fwd&#45;&gt;hybridsequential2_conv5_relu_fwd -->\n",
       "<g id=\"edge15\" class=\"edge\"><title>hybridsequential2_pool2_fwd&#45;&gt;hybridsequential2_conv5_relu_fwd</title>\n",
       "<path fill=\"none\" stroke=\"black\" d=\"M47,-1624.58C47,-1611.28 47,-1596.63 47,-1584.3\"/>\n",
       "<polygon fill=\"black\" stroke=\"black\" points=\"47,-1634.89 42.5001,-1624.89 47,-1629.89 47.0001,-1624.89 47.0001,-1624.89 47.0001,-1624.89 47,-1629.89 51.5001,-1624.89 47,-1634.89 47,-1634.89\"/>\n",
       "<text text-anchor=\"middle\" x=\"71\" y=\"-1605.8\" font-family=\"Times,serif\" font-size=\"14.00\">256x102</text>\n",
       "</g>\n",
       "<!-- hybridsequential2_flatten0_flatten0 -->\n",
       "<g id=\"node17\" class=\"node\"><title>hybridsequential2_flatten0_flatten0</title>\n",
       "<polygon fill=\"#fdb462\" stroke=\"black\" points=\"94,-1802 -7.10543e-15,-1802 -7.10543e-15,-1744 94,-1744 94,-1802\"/>\n",
       "<text text-anchor=\"middle\" x=\"47\" y=\"-1769.3\" font-family=\"Times,serif\" font-size=\"14.00\">hybridsequential2_flatten0_flatten0</text>\n",
       "</g>\n",
       "<!-- hybridsequential2_flatten0_flatten0&#45;&gt;hybridsequential2_pool2_fwd -->\n",
       "<g id=\"edge16\" class=\"edge\"><title>hybridsequential2_flatten0_flatten0&#45;&gt;hybridsequential2_pool2_fwd</title>\n",
       "<path fill=\"none\" stroke=\"black\" d=\"M47,-1733.58C47,-1720.28 47,-1705.63 47,-1693.3\"/>\n",
       "<polygon fill=\"black\" stroke=\"black\" points=\"47,-1743.89 42.5001,-1733.89 47,-1738.89 47.0001,-1733.89 47.0001,-1733.89 47.0001,-1733.89 47,-1738.89 51.5001,-1733.89 47,-1743.89 47,-1743.89\"/>\n",
       "<text text-anchor=\"middle\" x=\"67.5\" y=\"-1714.8\" font-family=\"Times,serif\" font-size=\"14.00\">256x34</text>\n",
       "</g>\n",
       "<!-- hybridsequential2_dense0_fwd -->\n",
       "<g id=\"node18\" class=\"node\"><title>hybridsequential2_dense0_fwd</title>\n",
       "<polygon fill=\"#fb8072\" stroke=\"black\" points=\"94,-1911 -7.10543e-15,-1911 -7.10543e-15,-1853 94,-1853 94,-1911\"/>\n",
       "<text text-anchor=\"middle\" x=\"47\" y=\"-1885.8\" font-family=\"Times,serif\" font-size=\"14.00\">FullyConnected</text>\n",
       "<text text-anchor=\"middle\" x=\"47\" y=\"-1870.8\" font-family=\"Times,serif\" font-size=\"14.00\">1024</text>\n",
       "</g>\n",
       "<!-- hybridsequential2_dense0_fwd&#45;&gt;hybridsequential2_flatten0_flatten0 -->\n",
       "<g id=\"edge17\" class=\"edge\"><title>hybridsequential2_dense0_fwd&#45;&gt;hybridsequential2_flatten0_flatten0</title>\n",
       "<path fill=\"none\" stroke=\"black\" d=\"M47,-1842.58C47,-1829.28 47,-1814.63 47,-1802.3\"/>\n",
       "<polygon fill=\"black\" stroke=\"black\" points=\"47,-1852.89 42.5001,-1842.89 47,-1847.89 47.0001,-1842.89 47.0001,-1842.89 47.0001,-1842.89 47,-1847.89 51.5001,-1842.89 47,-1852.89 47,-1852.89\"/>\n",
       "<text text-anchor=\"middle\" x=\"61\" y=\"-1823.8\" font-family=\"Times,serif\" font-size=\"14.00\">8704</text>\n",
       "</g>\n",
       "<!-- hybridsequential2_dense0_relu_fwd -->\n",
       "<g id=\"node19\" class=\"node\"><title>hybridsequential2_dense0_relu_fwd</title>\n",
       "<polygon fill=\"#ffffb3\" stroke=\"black\" points=\"94,-2020 -7.10543e-15,-2020 -7.10543e-15,-1962 94,-1962 94,-2020\"/>\n",
       "<text text-anchor=\"middle\" x=\"47\" y=\"-1994.8\" font-family=\"Times,serif\" font-size=\"14.00\">Activation</text>\n",
       "<text text-anchor=\"middle\" x=\"47\" y=\"-1979.8\" font-family=\"Times,serif\" font-size=\"14.00\">relu</text>\n",
       "</g>\n",
       "<!-- hybridsequential2_dense0_relu_fwd&#45;&gt;hybridsequential2_dense0_fwd -->\n",
       "<g id=\"edge18\" class=\"edge\"><title>hybridsequential2_dense0_relu_fwd&#45;&gt;hybridsequential2_dense0_fwd</title>\n",
       "<path fill=\"none\" stroke=\"black\" d=\"M47,-1951.58C47,-1938.28 47,-1923.63 47,-1911.3\"/>\n",
       "<polygon fill=\"black\" stroke=\"black\" points=\"47,-1961.89 42.5001,-1951.89 47,-1956.89 47.0001,-1951.89 47.0001,-1951.89 47.0001,-1951.89 47,-1956.89 51.5001,-1951.89 47,-1961.89 47,-1961.89\"/>\n",
       "<text text-anchor=\"middle\" x=\"61\" y=\"-1932.8\" font-family=\"Times,serif\" font-size=\"14.00\">1024</text>\n",
       "</g>\n",
       "<!-- hybridsequential2_dropout0_fwd -->\n",
       "<g id=\"node20\" class=\"node\"><title>hybridsequential2_dropout0_fwd</title>\n",
       "<polygon fill=\"#fccde5\" stroke=\"black\" points=\"94,-2129 -7.10543e-15,-2129 -7.10543e-15,-2071 94,-2071 94,-2129\"/>\n",
       "<text text-anchor=\"middle\" x=\"47\" y=\"-2096.3\" font-family=\"Times,serif\" font-size=\"14.00\">hybridsequential2_dropout0_fwd</text>\n",
       "</g>\n",
       "<!-- hybridsequential2_dropout0_fwd&#45;&gt;hybridsequential2_dense0_relu_fwd -->\n",
       "<g id=\"edge19\" class=\"edge\"><title>hybridsequential2_dropout0_fwd&#45;&gt;hybridsequential2_dense0_relu_fwd</title>\n",
       "<path fill=\"none\" stroke=\"black\" d=\"M47,-2060.58C47,-2047.28 47,-2032.63 47,-2020.3\"/>\n",
       "<polygon fill=\"black\" stroke=\"black\" points=\"47,-2070.89 42.5001,-2060.89 47,-2065.89 47.0001,-2060.89 47.0001,-2060.89 47.0001,-2060.89 47,-2065.89 51.5001,-2060.89 47,-2070.89 47,-2070.89\"/>\n",
       "<text text-anchor=\"middle\" x=\"61\" y=\"-2041.8\" font-family=\"Times,serif\" font-size=\"14.00\">1024</text>\n",
       "</g>\n",
       "<!-- hybridsequential2_dense1_fwd -->\n",
       "<g id=\"node21\" class=\"node\"><title>hybridsequential2_dense1_fwd</title>\n",
       "<polygon fill=\"#fb8072\" stroke=\"black\" points=\"94,-2238 -7.10543e-15,-2238 -7.10543e-15,-2180 94,-2180 94,-2238\"/>\n",
       "<text text-anchor=\"middle\" x=\"47\" y=\"-2212.8\" font-family=\"Times,serif\" font-size=\"14.00\">FullyConnected</text>\n",
       "<text text-anchor=\"middle\" x=\"47\" y=\"-2197.8\" font-family=\"Times,serif\" font-size=\"14.00\">1024</text>\n",
       "</g>\n",
       "<!-- hybridsequential2_dense1_fwd&#45;&gt;hybridsequential2_dropout0_fwd -->\n",
       "<g id=\"edge20\" class=\"edge\"><title>hybridsequential2_dense1_fwd&#45;&gt;hybridsequential2_dropout0_fwd</title>\n",
       "<path fill=\"none\" stroke=\"black\" d=\"M47,-2169.58C47,-2156.28 47,-2141.63 47,-2129.3\"/>\n",
       "<polygon fill=\"black\" stroke=\"black\" points=\"47,-2179.89 42.5001,-2169.89 47,-2174.89 47.0001,-2169.89 47.0001,-2169.89 47.0001,-2169.89 47,-2174.89 51.5001,-2169.89 47,-2179.89 47,-2179.89\"/>\n",
       "<text text-anchor=\"middle\" x=\"61\" y=\"-2150.8\" font-family=\"Times,serif\" font-size=\"14.00\">1024</text>\n",
       "</g>\n",
       "<!-- hybridsequential2_dense1_relu_fwd -->\n",
       "<g id=\"node22\" class=\"node\"><title>hybridsequential2_dense1_relu_fwd</title>\n",
       "<polygon fill=\"#ffffb3\" stroke=\"black\" points=\"94,-2347 -7.10543e-15,-2347 -7.10543e-15,-2289 94,-2289 94,-2347\"/>\n",
       "<text text-anchor=\"middle\" x=\"47\" y=\"-2321.8\" font-family=\"Times,serif\" font-size=\"14.00\">Activation</text>\n",
       "<text text-anchor=\"middle\" x=\"47\" y=\"-2306.8\" font-family=\"Times,serif\" font-size=\"14.00\">relu</text>\n",
       "</g>\n",
       "<!-- hybridsequential2_dense1_relu_fwd&#45;&gt;hybridsequential2_dense1_fwd -->\n",
       "<g id=\"edge21\" class=\"edge\"><title>hybridsequential2_dense1_relu_fwd&#45;&gt;hybridsequential2_dense1_fwd</title>\n",
       "<path fill=\"none\" stroke=\"black\" d=\"M47,-2278.58C47,-2265.28 47,-2250.63 47,-2238.3\"/>\n",
       "<polygon fill=\"black\" stroke=\"black\" points=\"47,-2288.89 42.5001,-2278.89 47,-2283.89 47.0001,-2278.89 47.0001,-2278.89 47.0001,-2278.89 47,-2283.89 51.5001,-2278.89 47,-2288.89 47,-2288.89\"/>\n",
       "<text text-anchor=\"middle\" x=\"61\" y=\"-2259.8\" font-family=\"Times,serif\" font-size=\"14.00\">1024</text>\n",
       "</g>\n",
       "<!-- hybridsequential2_dropout1_fwd -->\n",
       "<g id=\"node23\" class=\"node\"><title>hybridsequential2_dropout1_fwd</title>\n",
       "<polygon fill=\"#fccde5\" stroke=\"black\" points=\"94,-2456 -7.10543e-15,-2456 -7.10543e-15,-2398 94,-2398 94,-2456\"/>\n",
       "<text text-anchor=\"middle\" x=\"47\" y=\"-2423.3\" font-family=\"Times,serif\" font-size=\"14.00\">hybridsequential2_dropout1_fwd</text>\n",
       "</g>\n",
       "<!-- hybridsequential2_dropout1_fwd&#45;&gt;hybridsequential2_dense1_relu_fwd -->\n",
       "<g id=\"edge22\" class=\"edge\"><title>hybridsequential2_dropout1_fwd&#45;&gt;hybridsequential2_dense1_relu_fwd</title>\n",
       "<path fill=\"none\" stroke=\"black\" d=\"M47,-2387.58C47,-2374.28 47,-2359.63 47,-2347.3\"/>\n",
       "<polygon fill=\"black\" stroke=\"black\" points=\"47,-2397.89 42.5001,-2387.89 47,-2392.89 47.0001,-2387.89 47.0001,-2387.89 47.0001,-2387.89 47,-2392.89 51.5001,-2387.89 47,-2397.89 47,-2397.89\"/>\n",
       "<text text-anchor=\"middle\" x=\"61\" y=\"-2368.8\" font-family=\"Times,serif\" font-size=\"14.00\">1024</text>\n",
       "</g>\n",
       "<!-- hybridsequential2_dense2_fwd -->\n",
       "<g id=\"node24\" class=\"node\"><title>hybridsequential2_dense2_fwd</title>\n",
       "<polygon fill=\"#fb8072\" stroke=\"black\" points=\"94,-2565 -7.10543e-15,-2565 -7.10543e-15,-2507 94,-2507 94,-2565\"/>\n",
       "<text text-anchor=\"middle\" x=\"47\" y=\"-2539.8\" font-family=\"Times,serif\" font-size=\"14.00\">FullyConnected</text>\n",
       "<text text-anchor=\"middle\" x=\"47\" y=\"-2524.8\" font-family=\"Times,serif\" font-size=\"14.00\">7</text>\n",
       "</g>\n",
       "<!-- hybridsequential2_dense2_fwd&#45;&gt;hybridsequential2_dropout1_fwd -->\n",
       "<g id=\"edge23\" class=\"edge\"><title>hybridsequential2_dense2_fwd&#45;&gt;hybridsequential2_dropout1_fwd</title>\n",
       "<path fill=\"none\" stroke=\"black\" d=\"M47,-2496.58C47,-2483.28 47,-2468.63 47,-2456.3\"/>\n",
       "<polygon fill=\"black\" stroke=\"black\" points=\"47,-2506.89 42.5001,-2496.89 47,-2501.89 47.0001,-2496.89 47.0001,-2496.89 47.0001,-2496.89 47,-2501.89 51.5001,-2496.89 47,-2506.89 47,-2506.89\"/>\n",
       "<text text-anchor=\"middle\" x=\"61\" y=\"-2477.8\" font-family=\"Times,serif\" font-size=\"14.00\">1024</text>\n",
       "</g>\n",
       "</g>\n",
       "</svg>\n"
      ],
      "text/plain": [
       "<graphviz.dot.Digraph at 0x7fc58557ae80>"
      ]
     },
     "execution_count": 65,
     "metadata": {},
     "output_type": "execute_result"
    }
   ],
   "source": [
    "mx.viz.plot_network(net(mx.sym.var('data')), shape={'data':shape})"
   ]
  },
  {
   "cell_type": "markdown",
   "metadata": {},
   "source": [
    "### Hybridization"
   ]
  },
  {
   "cell_type": "code",
   "execution_count": 49,
   "metadata": {},
   "outputs": [],
   "source": [
    "if hybridize:\n",
    "    net.hybridize(static_alloc=True, static_shape=True)"
   ]
  },
  {
   "cell_type": "markdown",
   "metadata": {},
   "source": [
    "### Softmax cross-entropy Loss"
   ]
  },
  {
   "cell_type": "markdown",
   "metadata": {},
   "source": [
    "We are in a multi-class classification problem, so we use the [Softmax Cross entropy loss](https://deepnotes.io/softmax-crossentropy)"
   ]
  },
  {
   "cell_type": "code",
   "execution_count": 50,
   "metadata": {},
   "outputs": [],
   "source": [
    "softmax_cross_entropy = gluon.loss.SoftmaxCrossEntropyLoss()"
   ]
  },
  {
   "cell_type": "markdown",
   "metadata": {},
   "source": [
    "### Optimizer"
   ]
  },
  {
   "cell_type": "code",
   "execution_count": 51,
   "metadata": {},
   "outputs": [],
   "source": [
    "trainer = gluon.Trainer(net.collect_params(), 'sgd', \n",
    "                        {'learning_rate': LEARNING_RATE, \n",
    "                         'wd':WDECAY, \n",
    "                         'momentum':MOMENTUM})"
   ]
  },
  {
   "cell_type": "markdown",
   "metadata": {},
   "source": [
    "### Evaluate Accuracy"
   ]
  },
  {
   "cell_type": "code",
   "execution_count": 52,
   "metadata": {},
   "outputs": [],
   "source": [
    "def evaluate_accuracy(data_iterator, net):\n",
    "    acc = mx.metric.Accuracy()\n",
    "    for i, (data, label) in enumerate(data_iterator):\n",
    "        data = data.as_in_context(ctx)\n",
    "        label = label.as_in_context(ctx)\n",
    "        output = net(data)\n",
    "        prediction = nd.argmax(output, axis=1)\n",
    "        acc.update(preds=prediction, labels=label)\n",
    "    return acc.get()[1]"
   ]
  },
  {
   "cell_type": "markdown",
   "metadata": {},
   "source": [
    "### Training Loop\n",
    "We loop through the batches given by the data_loader. These batches have been asynchronously fetched by the workers.\n",
    "\n",
    "After an epoch, we measure the test_accuracy and save the parameters of the model"
   ]
  },
  {
   "cell_type": "code",
   "execution_count": null,
   "metadata": {},
   "outputs": [],
   "source": [
    "start_epoch = 0\n",
    "number_epochs = 3\n",
    "smoothing_constant = .01\n",
    "for e in range(start_epoch, number_epochs):\n",
    "    for i, (review, label) in enumerate(train_dataloader):\n",
    "        review = review.as_in_context(ctx)\n",
    "        label = label.as_in_context(ctx)\n",
    "        with autograd.record():\n",
    "            output = ####\n",
    "            loss = ####\n",
    "        loss.####\n",
    "        trainer.####\n",
    "        \n",
    "        # moving average of the loss\n",
    "        curr_loss = nd.mean(loss)\n",
    "        moving_loss = (curr_loss if (i == 0) \n",
    "                       else (1 - smoothing_constant) * moving_loss + (smoothing_constant) * curr_loss)\n",
    "\n",
    "        if (i%200 == 0):\n",
    "            print('Batch {}: Instant loss {:.4f}, Moving loss {:.4f}'.format(i,curr_loss.asscalar(), moving_loss.asscalar()))\n",
    "\n",
    "    test_accuracy = evaluate_accuracy(test_dataloader, net)\n",
    "    #Save the model using the gluon params format\n",
    "    net.save_parameters('crepe_epoch_{}_test_acc_{}.params'.format(e,int(test_accuracy*10000)/100))\n",
    "    print(\"Epoch {}. Loss: {:.4f}, Test_acc {:.4f}\".format(e, moving_loss.asscalar(), test_accuracy))"
   ]
  },
  {
   "cell_type": "markdown",
   "metadata": {},
   "source": [
    "### Export to the symbolic format\n",
    "The `save_params()` method works for models trained in Gluon. \n",
    "\n",
    "However the `export()` function, exports it to a format usable in the symbolic API, if you wanted to use in C++ or Scala for example."
   ]
  },
  {
   "cell_type": "code",
   "execution_count": 40,
   "metadata": {},
   "outputs": [],
   "source": [
    "net.export('crepe', epoch=number_epochs)"
   ]
  },
  {
   "cell_type": "markdown",
   "metadata": {},
   "source": [
    "### Random testing\n",
    "\n",
    "Let's randomly pick a few reviews and see how the classifier does!"
   ]
  },
  {
   "cell_type": "code",
   "execution_count": 54,
   "metadata": {},
   "outputs": [
    {
     "name": "stdout",
     "output_type": "stream",
     "text": [
      "Super easy Espresso drinks | This machine makes espresso drinks very easy, fast, and tasty. I have a very nice tradional espresso machine with portafilter. I can make a fantasic shot of espresso with The tradional machine but it takes me about three times longer to prepar then with the Capresso Ultima. The Capresso makes a pretty darn good shot also. Its so easy to use and it cleans up easy. It looks and feels sort of cheap with all the plasic but if it works flawlessly for a few years I can overlook the cheap plastic feel. My tradional machine wheights about 35lbs the Capresso wheights about 1/3 of that wheight. I talk about the weight a lot becous in my exprince heavy steel things tend to last longer the cheap plasic. Not to say that the Capresso Ultima is cheap, Its not. I just dont trust all the plastic. I gess that if they would have used more steel the price would have been a lot higher. At the price point it is, its very afordable for the quality of the drinks you can make with it.\n",
      "\n",
      "Category: Home_and_Kitchen\n",
      "\n",
      "Correct\n",
      "Style and UV Optical Protection | Great shades.UV Protection and style. Fast shipment for July 4th.\n",
      "\n",
      "Category: Sports_and_Outdoors\n",
      "\n",
      "Incorrectly predicted Clothing_Shoes_and_Jewelry\n",
      "Worked great for my Samsung Vibrant | I hated the phone but I got great battery life with the extra batteries I got with this product. Charged the batteries well and used it for about a year before I got a new phone and then these went to get e-wasted.\n",
      "\n",
      "Category: Cell_Phones_and_Accessories\n",
      "\n",
      "Correct\n",
      "Not my fave, but has the coverage I like; package arrived with one pair missing! | First, let me relate that I'm completely biased toward underwear that actually a) don't ride into my butt, and b) are high enough that they don't get stuck under my belly fat.  I hate the lowcut hipster trend undies just for that reason.  Fashion bikinis seem to be cut just as low as the hipsters these days, so it's hard to find something that doesn't come up too high, but also doesn't go down to low.  It looks and feels terrible to have undies under your belly fat.  I'm not really fat, but a bit chubby - enough that it feels uncomfortable when undies are under my belly.That said, I don't like the granny panties, either.  These undies are a very good compromise.  They come up high enough (a bit under belly button, but over the hips) to be comfortable and the butt has good coverage without being baggy or riding into the crack.What I don't like about them is a) stretch cotton (yes, I know that's one reason they fit so well, but I just don't like the way it feels), and b) the no-see elastic on the top isn't quite wide enough to prevent it from rolling down under my belly if I don't pay attention.  Let's just say it improves my posture.Finally, when I received my pack, it was clearly missing a pair of undies from it and had 4 instead of 5.  So some quality control failed in the packing department when they didn't notice that the pack they were sending had a pair missing out of it (it was the black ones that were missing).  Considering the price, I'm not really surprised that something wasn't right, though, so that didn't bother me overmuch - wasn't worth fussing about to  me.\n",
      "\n",
      "Category: Clothing_Shoes_and_Jewelry\n",
      "\n",
      "Correct\n",
      "MTM Ammon Can | Large box, holds lots of my ammo, might buy another one, always need ammo, it should be durable, thanks MTM\n",
      "\n",
      "Category: Sports_and_Outdoors\n",
      "\n",
      "Incorrectly predicted Clothing_Shoes_and_Jewelry\n"
     ]
    }
   ],
   "source": [
    "import random\n",
    "for i in range(5):\n",
    "    index = random.randint(1, len(data))\n",
    "    review = data['X'][index]\n",
    "    label = categories[int(data['Y'][index])]\n",
    "    print(review)\n",
    "    print('\\nCategory: {}\\n'.format(label))\n",
    "    encoded = nd.array([encode(review)], ctx=ctx)\n",
    "    output = net(encoded)\n",
    "    predicted = categories[np.argmax(output[0].asnumpy())]\n",
    "    if predicted == label:\n",
    "          print('Correct')\n",
    "    else:\n",
    "          print('Incorrectly predicted {}'.format(predicted))"
   ]
  },
  {
   "cell_type": "markdown",
   "metadata": {},
   "source": [
    "### Manual Testing\n",
    "We can also write our own reviews, encode them and see what the model predicts"
   ]
  },
  {
   "cell_type": "code",
   "execution_count": 57,
   "metadata": {},
   "outputs": [],
   "source": [
    "review_title = \"Good stuff\"\n",
    "review = \"This movie is definitely better than the previous one\""
   ]
  },
  {
   "cell_type": "code",
   "execution_count": 58,
   "metadata": {},
   "outputs": [
    {
     "name": "stdout",
     "output_type": "stream",
     "text": [
      "Good stuff\n",
      "This movie is definitely better than the previous one\n",
      "\n",
      "Predicted: Movies_and_TV\n",
      "\n",
      "Home_and_Kitchen 10.7 %\n",
      "Books 10.7 %\n",
      "CDs_and_Vinyl 20.9 %\n",
      "Movies_and_TV 27.7 %\n",
      "Cell_Phones_and_Accessories 7.4 %\n",
      "Sports_and_Outdoors 12.5 %\n",
      "Clothing_Shoes_and_Jewelry 9.8 %\n"
     ]
    }
   ],
   "source": [
    "print(review_title)\n",
    "print(review + '\\n')\n",
    "encoded = nd.array([encode(review + \" | \" + review_title)], ctx=ctx)\n",
    "output = net(encoded)\n",
    "softmax = nd.exp(output) / nd.sum(nd.exp(output))[0]\n",
    "predicted = categories[np.argmax(output[0].asnumpy())]\n",
    "print('Predicted: {}\\n'.format(predicted))\n",
    "for i, val in enumerate(categories):\n",
    "    print(val, float(int(softmax[0][i].asnumpy()*1000)/10), '%')"
   ]
  },
  {
   "cell_type": "markdown",
   "metadata": {},
   "source": [
    "# Model Deployment\n",
    "\n",
    "Head over to the `model/` folder and have a look at the README.md to learn how you can deploy this pre-trained model to MXNet Model Server. You can then package the API in a docker container for cloud deployment!"
   ]
  },
  {
   "cell_type": "markdown",
   "metadata": {},
   "source": [
    "An interactive live demo is available [here](https://thomasdelteil.github.io/CNN_NLP_MXNet/)"
   ]
  },
  {
   "cell_type": "markdown",
   "metadata": {},
   "source": [
    "[![img](https://user-images.githubusercontent.com/3716307/48382335-6099ae00-e695-11e8-8110-f692b9ecb831.png)](https://thomasdelteil.github.io/CNN_NLP_MXNet/)"
   ]
  }
 ],
 "metadata": {
  "kernelspec": {
   "display_name": "Python 3",
   "language": "python",
   "name": "python3"
  },
  "language_info": {
   "codemirror_mode": {
    "name": "ipython",
    "version": 3
   },
   "file_extension": ".py",
   "mimetype": "text/x-python",
   "name": "python",
   "nbconvert_exporter": "python",
   "pygments_lexer": "ipython3",
   "version": "3.6.4"
  }
 },
 "nbformat": 4,
 "nbformat_minor": 2
}
